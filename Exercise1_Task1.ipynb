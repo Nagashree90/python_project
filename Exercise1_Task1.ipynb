{
 "cells": [
  {
   "cell_type": "markdown",
   "metadata": {
    "id": "1wkFvn2enc7b"
   },
   "source": [
    "# **Exercise 1: Sales Analysis for a Supermarket Chain**"
   ]
  },
  {
   "cell_type": "markdown",
   "metadata": {
    "id": "02Vra9qjnsej"
   },
   "source": [
    "1. Setup and Data Loading: Start by loading the data into a pandas DataFrame.\n",
    "*   Import the necessary libraries (pandas as pd, matplotlib.pyplot as plt, and seaborn as sns).\n",
    "*   Read the CSV fi le using pd.read_csv(). Store it in a DataFrame, e.g., df.\n",
    "*   Print out the fi rst 5 rows using df.head() to preview the data and verify it loaded correctly."
   ]
  },
  {
   "cell_type": "code",
   "execution_count": 1,
   "metadata": {
    "id": "zwYVDkXdj5qh"
   },
   "outputs": [],
   "source": [
    "#Import all req libraries\n",
    "import pandas as pd\n",
    "import numpy as np\n",
    "import matplotlib.pyplot as plt\n",
    "import seaborn as sns"
   ]
  },
  {
   "cell_type": "code",
   "execution_count": 3,
   "metadata": {
    "id": "tSuKv8RtoDP8"
   },
   "outputs": [],
   "source": [
    "df=pd.read_csv(\"supermarket_sales .csv\")"
   ]
  },
  {
   "cell_type": "code",
   "execution_count": 4,
   "metadata": {
    "colab": {
     "base_uri": "https://localhost:8080/",
     "height": 348
    },
    "id": "H_lbz_oroTN6",
    "outputId": "6bd2f38d-8daa-434c-9444-c61660fb5b16"
   },
   "outputs": [
    {
     "data": {
      "text/html": [
       "<div>\n",
       "<style scoped>\n",
       "    .dataframe tbody tr th:only-of-type {\n",
       "        vertical-align: middle;\n",
       "    }\n",
       "\n",
       "    .dataframe tbody tr th {\n",
       "        vertical-align: top;\n",
       "    }\n",
       "\n",
       "    .dataframe thead th {\n",
       "        text-align: right;\n",
       "    }\n",
       "</style>\n",
       "<table border=\"1\" class=\"dataframe\">\n",
       "  <thead>\n",
       "    <tr style=\"text-align: right;\">\n",
       "      <th></th>\n",
       "      <th>Invoice ID</th>\n",
       "      <th>Branch</th>\n",
       "      <th>City</th>\n",
       "      <th>Customer type</th>\n",
       "      <th>Gender</th>\n",
       "      <th>Product line</th>\n",
       "      <th>Unit price</th>\n",
       "      <th>Quantity</th>\n",
       "      <th>Tax 5%</th>\n",
       "      <th>Total</th>\n",
       "      <th>Date</th>\n",
       "      <th>Time</th>\n",
       "      <th>Payment</th>\n",
       "      <th>cogs</th>\n",
       "      <th>gross margin percentage</th>\n",
       "      <th>gross income</th>\n",
       "      <th>Rating</th>\n",
       "    </tr>\n",
       "  </thead>\n",
       "  <tbody>\n",
       "    <tr>\n",
       "      <th>0</th>\n",
       "      <td>750-67-8428</td>\n",
       "      <td>A</td>\n",
       "      <td>Yangon</td>\n",
       "      <td>Member</td>\n",
       "      <td>Female</td>\n",
       "      <td>Health and beauty</td>\n",
       "      <td>74.69</td>\n",
       "      <td>7</td>\n",
       "      <td>26.1415</td>\n",
       "      <td>548.9715</td>\n",
       "      <td>1/5/2019</td>\n",
       "      <td>13:08</td>\n",
       "      <td>Ewallet</td>\n",
       "      <td>522.83</td>\n",
       "      <td>4.761905</td>\n",
       "      <td>26.1415</td>\n",
       "      <td>9.1</td>\n",
       "    </tr>\n",
       "    <tr>\n",
       "      <th>1</th>\n",
       "      <td>226-31-3081</td>\n",
       "      <td>C</td>\n",
       "      <td>Naypyitaw</td>\n",
       "      <td>Normal</td>\n",
       "      <td>Female</td>\n",
       "      <td>Electronic accessories</td>\n",
       "      <td>15.28</td>\n",
       "      <td>5</td>\n",
       "      <td>3.8200</td>\n",
       "      <td>80.2200</td>\n",
       "      <td>3/8/2019</td>\n",
       "      <td>10:29</td>\n",
       "      <td>Cash</td>\n",
       "      <td>76.40</td>\n",
       "      <td>4.761905</td>\n",
       "      <td>3.8200</td>\n",
       "      <td>9.6</td>\n",
       "    </tr>\n",
       "    <tr>\n",
       "      <th>2</th>\n",
       "      <td>631-41-3108</td>\n",
       "      <td>A</td>\n",
       "      <td>Yangon</td>\n",
       "      <td>Normal</td>\n",
       "      <td>Male</td>\n",
       "      <td>Home and lifestyle</td>\n",
       "      <td>46.33</td>\n",
       "      <td>7</td>\n",
       "      <td>16.2155</td>\n",
       "      <td>340.5255</td>\n",
       "      <td>3/3/2019</td>\n",
       "      <td>13:23</td>\n",
       "      <td>Credit card</td>\n",
       "      <td>324.31</td>\n",
       "      <td>4.761905</td>\n",
       "      <td>16.2155</td>\n",
       "      <td>7.4</td>\n",
       "    </tr>\n",
       "    <tr>\n",
       "      <th>3</th>\n",
       "      <td>123-19-1176</td>\n",
       "      <td>A</td>\n",
       "      <td>Yangon</td>\n",
       "      <td>Member</td>\n",
       "      <td>Male</td>\n",
       "      <td>Health and beauty</td>\n",
       "      <td>58.22</td>\n",
       "      <td>8</td>\n",
       "      <td>23.2880</td>\n",
       "      <td>489.0480</td>\n",
       "      <td>1/27/2019</td>\n",
       "      <td>20:33</td>\n",
       "      <td>Ewallet</td>\n",
       "      <td>465.76</td>\n",
       "      <td>4.761905</td>\n",
       "      <td>23.2880</td>\n",
       "      <td>8.4</td>\n",
       "    </tr>\n",
       "    <tr>\n",
       "      <th>4</th>\n",
       "      <td>373-73-7910</td>\n",
       "      <td>A</td>\n",
       "      <td>Yangon</td>\n",
       "      <td>Normal</td>\n",
       "      <td>Male</td>\n",
       "      <td>Sports and travel</td>\n",
       "      <td>86.31</td>\n",
       "      <td>7</td>\n",
       "      <td>30.2085</td>\n",
       "      <td>634.3785</td>\n",
       "      <td>2/8/2019</td>\n",
       "      <td>10:37</td>\n",
       "      <td>Ewallet</td>\n",
       "      <td>604.17</td>\n",
       "      <td>4.761905</td>\n",
       "      <td>30.2085</td>\n",
       "      <td>5.3</td>\n",
       "    </tr>\n",
       "  </tbody>\n",
       "</table>\n",
       "</div>"
      ],
      "text/plain": [
       "    Invoice ID Branch       City Customer type  Gender  \\\n",
       "0  750-67-8428      A     Yangon        Member  Female   \n",
       "1  226-31-3081      C  Naypyitaw        Normal  Female   \n",
       "2  631-41-3108      A     Yangon        Normal    Male   \n",
       "3  123-19-1176      A     Yangon        Member    Male   \n",
       "4  373-73-7910      A     Yangon        Normal    Male   \n",
       "\n",
       "             Product line  Unit price  Quantity   Tax 5%     Total       Date  \\\n",
       "0       Health and beauty       74.69         7  26.1415  548.9715   1/5/2019   \n",
       "1  Electronic accessories       15.28         5   3.8200   80.2200   3/8/2019   \n",
       "2      Home and lifestyle       46.33         7  16.2155  340.5255   3/3/2019   \n",
       "3       Health and beauty       58.22         8  23.2880  489.0480  1/27/2019   \n",
       "4       Sports and travel       86.31         7  30.2085  634.3785   2/8/2019   \n",
       "\n",
       "    Time      Payment    cogs  gross margin percentage  gross income  Rating  \n",
       "0  13:08      Ewallet  522.83                 4.761905       26.1415     9.1  \n",
       "1  10:29         Cash   76.40                 4.761905        3.8200     9.6  \n",
       "2  13:23  Credit card  324.31                 4.761905       16.2155     7.4  \n",
       "3  20:33      Ewallet  465.76                 4.761905       23.2880     8.4  \n",
       "4  10:37      Ewallet  604.17                 4.761905       30.2085     5.3  "
      ]
     },
     "execution_count": 4,
     "metadata": {},
     "output_type": "execute_result"
    }
   ],
   "source": [
    "df.head()"
   ]
  },
  {
   "cell_type": "markdown",
   "metadata": {
    "id": "AjwnLDrrpTjG"
   },
   "source": [
    "2. Inspect the Data: Get basic information about the dataset to understand its structure.\n",
    "\n",
    "\n",
    "*   Print the shape of the DataFrame to see how many rows and columns it contains.\n",
    "*   Use df.info() to see the data types of each column and check for any missing values.\n",
    "*   Use df.describe() to view summary statistics for numeric columns (count, mean, min, max, etc.).\n",
    "*   Based on this initial inspection, note down any observations (for example, which columns are numeric vs categorical, whether any column has null values, etc.)."
   ]
  },
  {
   "cell_type": "code",
   "execution_count": 5,
   "metadata": {
    "colab": {
     "base_uri": "https://localhost:8080/"
    },
    "id": "WvJd6vsopuhp",
    "outputId": "9b1073dd-c36d-47bf-9762-180fd1bde6cc"
   },
   "outputs": [
    {
     "data": {
      "text/plain": [
       "(1000, 17)"
      ]
     },
     "execution_count": 5,
     "metadata": {},
     "output_type": "execute_result"
    }
   ],
   "source": [
    "df.shape"
   ]
  },
  {
   "cell_type": "code",
   "execution_count": 6,
   "metadata": {
    "colab": {
     "base_uri": "https://localhost:8080/"
    },
    "id": "-SX86QY8p7vA",
    "outputId": "c33fd5ea-5064-4385-da5a-1f97b0051a8e"
   },
   "outputs": [
    {
     "name": "stdout",
     "output_type": "stream",
     "text": [
      "<class 'pandas.core.frame.DataFrame'>\n",
      "RangeIndex: 1000 entries, 0 to 999\n",
      "Data columns (total 17 columns):\n",
      " #   Column                   Non-Null Count  Dtype  \n",
      "---  ------                   --------------  -----  \n",
      " 0   Invoice ID               1000 non-null   object \n",
      " 1   Branch                   1000 non-null   object \n",
      " 2   City                     1000 non-null   object \n",
      " 3   Customer type            1000 non-null   object \n",
      " 4   Gender                   1000 non-null   object \n",
      " 5   Product line             1000 non-null   object \n",
      " 6   Unit price               1000 non-null   float64\n",
      " 7   Quantity                 1000 non-null   int64  \n",
      " 8   Tax 5%                   1000 non-null   float64\n",
      " 9   Total                    1000 non-null   float64\n",
      " 10  Date                     1000 non-null   object \n",
      " 11  Time                     1000 non-null   object \n",
      " 12  Payment                  1000 non-null   object \n",
      " 13  cogs                     1000 non-null   float64\n",
      " 14  gross margin percentage  1000 non-null   float64\n",
      " 15  gross income             1000 non-null   float64\n",
      " 16  Rating                   1000 non-null   float64\n",
      "dtypes: float64(7), int64(1), object(9)\n",
      "memory usage: 132.9+ KB\n"
     ]
    }
   ],
   "source": [
    "df.info()"
   ]
  },
  {
   "cell_type": "code",
   "execution_count": 7,
   "metadata": {
    "colab": {
     "base_uri": "https://localhost:8080/",
     "height": 617
    },
    "id": "OD0lKKO0tGor",
    "outputId": "aed896f0-9fa6-4e19-dc9b-ff7c71a451de"
   },
   "outputs": [
    {
     "data": {
      "text/plain": [
       "Invoice ID                 0\n",
       "Branch                     0\n",
       "City                       0\n",
       "Customer type              0\n",
       "Gender                     0\n",
       "Product line               0\n",
       "Unit price                 0\n",
       "Quantity                   0\n",
       "Tax 5%                     0\n",
       "Total                      0\n",
       "Date                       0\n",
       "Time                       0\n",
       "Payment                    0\n",
       "cogs                       0\n",
       "gross margin percentage    0\n",
       "gross income               0\n",
       "Rating                     0\n",
       "dtype: int64"
      ]
     },
     "execution_count": 7,
     "metadata": {},
     "output_type": "execute_result"
    }
   ],
   "source": [
    "df.isnull().sum()"
   ]
  },
  {
   "cell_type": "code",
   "execution_count": 8,
   "metadata": {
    "colab": {
     "base_uri": "https://localhost:8080/",
     "height": 355
    },
    "id": "TDKpTU0yqBvZ",
    "outputId": "b123b6de-a4a3-48bb-c36b-23f09de01781"
   },
   "outputs": [
    {
     "data": {
      "text/html": [
       "<div>\n",
       "<style scoped>\n",
       "    .dataframe tbody tr th:only-of-type {\n",
       "        vertical-align: middle;\n",
       "    }\n",
       "\n",
       "    .dataframe tbody tr th {\n",
       "        vertical-align: top;\n",
       "    }\n",
       "\n",
       "    .dataframe thead th {\n",
       "        text-align: right;\n",
       "    }\n",
       "</style>\n",
       "<table border=\"1\" class=\"dataframe\">\n",
       "  <thead>\n",
       "    <tr style=\"text-align: right;\">\n",
       "      <th></th>\n",
       "      <th>Unit price</th>\n",
       "      <th>Quantity</th>\n",
       "      <th>Tax 5%</th>\n",
       "      <th>Total</th>\n",
       "      <th>cogs</th>\n",
       "      <th>gross margin percentage</th>\n",
       "      <th>gross income</th>\n",
       "      <th>Rating</th>\n",
       "    </tr>\n",
       "  </thead>\n",
       "  <tbody>\n",
       "    <tr>\n",
       "      <th>count</th>\n",
       "      <td>1000.000000</td>\n",
       "      <td>1000.000000</td>\n",
       "      <td>1000.000000</td>\n",
       "      <td>1000.000000</td>\n",
       "      <td>1000.00000</td>\n",
       "      <td>1.000000e+03</td>\n",
       "      <td>1000.000000</td>\n",
       "      <td>1000.00000</td>\n",
       "    </tr>\n",
       "    <tr>\n",
       "      <th>mean</th>\n",
       "      <td>55.672130</td>\n",
       "      <td>5.510000</td>\n",
       "      <td>15.379369</td>\n",
       "      <td>322.966749</td>\n",
       "      <td>307.58738</td>\n",
       "      <td>4.761905e+00</td>\n",
       "      <td>15.379369</td>\n",
       "      <td>6.97270</td>\n",
       "    </tr>\n",
       "    <tr>\n",
       "      <th>std</th>\n",
       "      <td>26.494628</td>\n",
       "      <td>2.923431</td>\n",
       "      <td>11.708825</td>\n",
       "      <td>245.885335</td>\n",
       "      <td>234.17651</td>\n",
       "      <td>6.220360e-14</td>\n",
       "      <td>11.708825</td>\n",
       "      <td>1.71858</td>\n",
       "    </tr>\n",
       "    <tr>\n",
       "      <th>min</th>\n",
       "      <td>10.080000</td>\n",
       "      <td>1.000000</td>\n",
       "      <td>0.508500</td>\n",
       "      <td>10.678500</td>\n",
       "      <td>10.17000</td>\n",
       "      <td>4.761905e+00</td>\n",
       "      <td>0.508500</td>\n",
       "      <td>4.00000</td>\n",
       "    </tr>\n",
       "    <tr>\n",
       "      <th>25%</th>\n",
       "      <td>32.875000</td>\n",
       "      <td>3.000000</td>\n",
       "      <td>5.924875</td>\n",
       "      <td>124.422375</td>\n",
       "      <td>118.49750</td>\n",
       "      <td>4.761905e+00</td>\n",
       "      <td>5.924875</td>\n",
       "      <td>5.50000</td>\n",
       "    </tr>\n",
       "    <tr>\n",
       "      <th>50%</th>\n",
       "      <td>55.230000</td>\n",
       "      <td>5.000000</td>\n",
       "      <td>12.088000</td>\n",
       "      <td>253.848000</td>\n",
       "      <td>241.76000</td>\n",
       "      <td>4.761905e+00</td>\n",
       "      <td>12.088000</td>\n",
       "      <td>7.00000</td>\n",
       "    </tr>\n",
       "    <tr>\n",
       "      <th>75%</th>\n",
       "      <td>77.935000</td>\n",
       "      <td>8.000000</td>\n",
       "      <td>22.445250</td>\n",
       "      <td>471.350250</td>\n",
       "      <td>448.90500</td>\n",
       "      <td>4.761905e+00</td>\n",
       "      <td>22.445250</td>\n",
       "      <td>8.50000</td>\n",
       "    </tr>\n",
       "    <tr>\n",
       "      <th>max</th>\n",
       "      <td>99.960000</td>\n",
       "      <td>10.000000</td>\n",
       "      <td>49.650000</td>\n",
       "      <td>1042.650000</td>\n",
       "      <td>993.00000</td>\n",
       "      <td>4.761905e+00</td>\n",
       "      <td>49.650000</td>\n",
       "      <td>10.00000</td>\n",
       "    </tr>\n",
       "  </tbody>\n",
       "</table>\n",
       "</div>"
      ],
      "text/plain": [
       "        Unit price     Quantity       Tax 5%        Total        cogs  \\\n",
       "count  1000.000000  1000.000000  1000.000000  1000.000000  1000.00000   \n",
       "mean     55.672130     5.510000    15.379369   322.966749   307.58738   \n",
       "std      26.494628     2.923431    11.708825   245.885335   234.17651   \n",
       "min      10.080000     1.000000     0.508500    10.678500    10.17000   \n",
       "25%      32.875000     3.000000     5.924875   124.422375   118.49750   \n",
       "50%      55.230000     5.000000    12.088000   253.848000   241.76000   \n",
       "75%      77.935000     8.000000    22.445250   471.350250   448.90500   \n",
       "max      99.960000    10.000000    49.650000  1042.650000   993.00000   \n",
       "\n",
       "       gross margin percentage  gross income      Rating  \n",
       "count             1.000000e+03   1000.000000  1000.00000  \n",
       "mean              4.761905e+00     15.379369     6.97270  \n",
       "std               6.220360e-14     11.708825     1.71858  \n",
       "min               4.761905e+00      0.508500     4.00000  \n",
       "25%               4.761905e+00      5.924875     5.50000  \n",
       "50%               4.761905e+00     12.088000     7.00000  \n",
       "75%               4.761905e+00     22.445250     8.50000  \n",
       "max               4.761905e+00     49.650000    10.00000  "
      ]
     },
     "execution_count": 8,
     "metadata": {},
     "output_type": "execute_result"
    }
   ],
   "source": [
    "df.describe()"
   ]
  },
  {
   "cell_type": "markdown",
   "metadata": {
    "id": "rGhWC5nRrhEX"
   },
   "source": [
    "**Observation :** Based on this initial inspection of the outcome of df.info() and df.describe(), following are the observations:\n",
    "1. The df.shape output indicates the exact number of rows and columns.\n",
    "2. df.info() shows the data type for each column which is in our case Invoice Id , Branch, city, Customer type, Gender, Product line, Date & Time are categorical data and all others are numerical data. It also indicates number of non-null values entries which in our case all entires are non-null and we confirmed that by call isnull() which says that there is no null values.\n",
    "3. Next is df.describe() which provide summary statistics for numeric columns which include count, mean, standard deviation, minimum, maximum & quartiles."
   ]
  },
  {
   "cell_type": "markdown",
   "metadata": {
    "id": "HJ_UPuhEupw9"
   },
   "source": [
    "3. Sales by Branch: Determine which branch has the highest total sales.\n",
    "*   Use pandas grouping to calculate the total Total sales for each branch (hint: use df.groupby() on the branch column and sum the \"Total\" column).\n",
    "*   Identify the branch with the greatest total sales sum.\n",
    "*   Create a bar chart showing total sales for each branch. Label the x-axis with branch identifi ers (e.g., A, B, C) and the y-axis with the total sales amount. Give the chart a title like \"Total Sales by Branch\".\n",
    "*   From the chart and values, briefl y note which branch is performing best in terms of revenue."
   ]
  },
  {
   "cell_type": "code",
   "execution_count": 9,
   "metadata": {
    "id": "qyaoNdHDvDq4"
   },
   "outputs": [],
   "source": [
    "total_sales_branchwise = df.groupby(\"Branch\").agg({\"Total\":\"sum\"})"
   ]
  },
  {
   "cell_type": "code",
   "execution_count": 10,
   "metadata": {
    "colab": {
     "base_uri": "https://localhost:8080/"
    },
    "id": "EjSSk8YWwbSC",
    "outputId": "1de96bfa-2ebb-49b0-8e7f-dca7dcb51661"
   },
   "outputs": [
    {
     "name": "stdout",
     "output_type": "stream",
     "text": [
      "              Total\n",
      "Branch             \n",
      "A       106200.3705\n",
      "B       106197.6720\n",
      "C       110568.7065\n"
     ]
    }
   ],
   "source": [
    "print (total_sales_branchwise)"
   ]
  },
  {
   "cell_type": "code",
   "execution_count": 11,
   "metadata": {
    "colab": {
     "base_uri": "https://localhost:8080/"
    },
    "id": "sPgTigGKv7j8",
    "outputId": "8b03ec9f-f0bb-48f8-920d-f8d7341b4403"
   },
   "outputs": [
    {
     "name": "stdout",
     "output_type": "stream",
     "text": [
      "Total    C\n",
      "dtype: object\n"
     ]
    }
   ],
   "source": [
    "highest_sales_branch = total_sales_branchwise.idxmax()\n",
    "print(highest_sales_branch)"
   ]
  },
  {
   "cell_type": "code",
   "execution_count": 12,
   "metadata": {
    "id": "3vMkj2W1wsr7"
   },
   "outputs": [],
   "source": [
    "#With above result the branch with the greatest total sales\n",
    "#is branch C whose total sales is 110568.7065"
   ]
  },
  {
   "cell_type": "code",
   "execution_count": 16,
   "metadata": {
    "colab": {
     "base_uri": "https://localhost:8080/",
     "height": 564
    },
    "id": "t4iDvSKSyXUf",
    "outputId": "7f7cf0bc-a42f-454a-f8e8-0622221edb15"
   },
   "outputs": [
    {
     "data": {
      "image/png": "[encoded data removed]",
      "text/plain": [
       "<Figure size 576x432 with 1 Axes>"
      ]
     },
     "metadata": {
      "needs_background": "light"
     },
     "output_type": "display_data"
    }
   ],
   "source": [
    "plt.figure(figsize=(8, 6))\n",
    "plt.bar(total_sales_branchwise.index, total_sales_branchwise[\"Total\"])\n",
    "plt.xlabel(\"Branch\")\n",
    "plt.ylabel(\"Total Sales\")\n",
    "plt.title(\"Total Sales by Branch\")\n",
    "plt.show()"
   ]
  },
  {
   "cell_type": "markdown",
   "metadata": {
    "id": "0yUqSn0ey_Kb"
   },
   "source": [
    "**Note** : Based on the chart and the calculated values, **Branch C** is performing best in terms of revenue."
   ]
  },
  {
   "cell_type": "markdown",
   "metadata": {
    "id": "iXdDXWvczPMG"
   },
   "source": [
    "4. Member vs Normal Customers: Analyze whether membership affects purchase amounts.\n",
    "*   Calculate the average purchase total for Member customers vs Normal customers. (Group the data by \"Customer Type\" and fi nd the mean of the \"Total\" column.)\n",
    "*   Create a bar chart to compare the average transaction amount for Members vs Normal customers.\n",
    "*   Add appropriate labels and title (e.g., \"Average Purchase Amount by Customer Type\").\n",
    "*  Observe the chart to see if members tend to spend more per transaction than non-members (or vice versa). Record any insight from this comparison."
   ]
  },
  {
   "cell_type": "code",
   "execution_count": 17,
   "metadata": {
    "colab": {
     "base_uri": "https://localhost:8080/"
    },
    "id": "Z-dNQimPzxHl",
    "outputId": "fc864061-9668-4d94-cfe0-578ae0cb8070"
   },
   "outputs": [
    {
     "name": "stdout",
     "output_type": "stream",
     "text": [
      "Average purchase total for Member customers vs Normal customers:                      Total\n",
      "Customer type            \n",
      "Member         327.791305\n",
      "Normal         318.122856\n"
     ]
    }
   ],
   "source": [
    "Avg_purchaseTotal_CustType = df.groupby(\"Customer type\").agg({\"Total\":\"mean\"})\n",
    "print(\"Average purchase total for Member customers vs Normal customers: \",Avg_purchaseTotal_CustType)"
   ]
  },
  {
   "cell_type": "code",
   "execution_count": 18,
   "metadata": {
    "colab": {
     "base_uri": "https://localhost:8080/",
     "height": 487
    },
    "id": "dfjPoOmv1BY1",
    "outputId": "99481d27-558a-44bc-d756-5e038d69ba50"
   },
   "outputs": [
    {
     "data": {
      "image/png": "[encoded data removed]",
      "text/plain": [
       "<Figure size 504x360 with 1 Axes>"
      ]
     },
     "metadata": {
      "needs_background": "light"
     },
     "output_type": "display_data"
    }
   ],
   "source": [
    "plt.figure(figsize=(7, 5))\n",
    "plt.bar(Avg_purchaseTotal_CustType.index, Avg_purchaseTotal_CustType[\"Total\"])\n",
    "plt.xlabel(\"Customer Type\")\n",
    "plt.ylabel(\"Average Purchase Amount\")\n",
    "plt.title(\"Average Purchase Amount by Customer Type\")\n",
    "plt.show()"
   ]
  },
  {
   "cell_type": "markdown",
   "metadata": {
    "id": "AS-uqvZD1b9V"
   },
   "source": [
    "**Observation:** Based on the bar chart, it appears that Member customers tend to spend more per transaction on average than Normal customers."
   ]
  },
  {
   "cell_type": "markdown",
   "metadata": {
    "id": "QbRQOqJW1wdJ"
   },
   "source": [
    "5. Sales by Product Line: Find out which product categories are generating the most revenue.\n",
    "*   Use grouping to sum up the Total sales for each \"Product line\". There are several product categories (e.g., Food & beverages, Fashion accessories, etc.).\n",
    "*   Sort the results to see which product line has the highest total sales.\n",
    "*   Create a bar chart of total sales by product line. Since product line names might be long, consider making the chart horizontal (switch x and y) for readability, or increase the fi gure size. Label the axes (product line and total sales) and add a title.\n",
    "*   From the chart, identify the top-performing product category in terms of sales."
   ]
  },
  {
   "cell_type": "code",
   "execution_count": 19,
   "metadata": {
    "colab": {
     "base_uri": "https://localhost:8080/"
    },
    "id": "FRsvoGGj2r8Z",
    "outputId": "99945cbb-0246-4329-dca2-3e65a65ff557"
   },
   "outputs": [
    {
     "name": "stdout",
     "output_type": "stream",
     "text": [
      "Total sales for each 'Product line':\n",
      "                             Total\n",
      "Product line                      \n",
      "Electronic accessories  54337.5315\n",
      "Fashion accessories     54305.8950\n",
      "Food and beverages      56144.8440\n",
      "Health and beauty       49193.7390\n",
      "Home and lifestyle      53861.9130\n",
      "Sports and travel       55122.8265\n"
     ]
    }
   ],
   "source": [
    "total_sales_productline = df.groupby(\"Product line\").agg({\"Total\":\"sum\"})\n",
    "print(\"Total sales for each 'Product line':\")\n",
    "print(total_sales_productline)\n"
   ]
  },
  {
   "cell_type": "code",
   "execution_count": 20,
   "metadata": {
    "colab": {
     "base_uri": "https://localhost:8080/"
    },
    "id": "9vi07ma44UjA",
    "outputId": "879d93a7-5e8b-42a6-b3ae-693b3bc809c3"
   },
   "outputs": [
    {
     "name": "stdout",
     "output_type": "stream",
     "text": [
      "Sorted Order of Product line:                               Total\n",
      "Product line                      \n",
      "Food and beverages      56144.8440\n",
      "Sports and travel       55122.8265\n",
      "Electronic accessories  54337.5315\n",
      "Fashion accessories     54305.8950\n",
      "Home and lifestyle      53861.9130\n",
      "Health and beauty       49193.7390\n"
     ]
    }
   ],
   "source": [
    "# Sort the results in descending order of 'Total' sales\n",
    "sorted_total_sales_productline = total_sales_productline.sort_values(by=\"Total\", ascending=False)\n",
    "print(\"Sorted Order of Product line: \",sorted_total_sales_productline)\n"
   ]
  },
  {
   "cell_type": "markdown",
   "metadata": {
    "id": "TJ4h-lBK4qX7"
   },
   "source": [
    "Above sorted order of Product line clearly show that Food and beverages has highest total sales."
   ]
  },
  {
   "cell_type": "code",
   "execution_count": 21,
   "metadata": {
    "colab": {
     "base_uri": "https://localhost:8080/",
     "height": 538
    },
    "id": "YDcDVL5p5Dsk",
    "outputId": "463fce04-df00-4d16-a242-3b64943fc24c"
   },
   "outputs": [
    {
     "data": {
      "image/png": "[encoded data removed]",
      "text/plain": [
       "<Figure size 720x576 with 1 Axes>"
      ]
     },
     "metadata": {
      "needs_background": "light"
     },
     "output_type": "display_data"
    }
   ],
   "source": [
    "plt.figure(figsize=(10, 8))  # Increase figure size for better readability\n",
    "plt.barh(sorted_total_sales_productline.index, sorted_total_sales_productline[\"Total\"])\n",
    "plt.xlabel(\"Total Sales\")\n",
    "plt.ylabel(\"Product Line\")\n",
    "plt.title(\"Total Sales by Product Line\")\n",
    "plt.show()"
   ]
  },
  {
   "cell_type": "markdown",
   "metadata": {
    "id": "DPY7wl0m5X2t"
   },
   "source": [
    "From the above chart, \"Food and beverages\" is the top-performing product category in terms of sales."
   ]
  },
  {
   "cell_type": "markdown",
   "metadata": {
    "id": "FZnSsWJD5oxH"
   },
   "source": [
    "6. Customer Satisfaction Distribution: Examine the distribution of customer satisfaction ratings.\n",
    "*   Look at the \"Rating\" column, which ranges from 1 to 10. Use a histogram to plot the distribution of ratings. (You can use plt.hist() or sns.histplot() on the \"Rating\" column.)\n",
    "*   Set an appropriate number of bins (or let it auto-bin) and label the axes (Rating score on x-axis, Frequency on y-axis). Add a title like \"Distribution of Customer Ratings\".\n",
    "*   Check if the ratings tend to be high, low, or varied. (For example, are most ratings around 7-9, or is it a uniform distribution?) Note any observation, such as if customers generally gave good ratings or if there’s a wide spread.\n"
   ]
  },
  {
   "cell_type": "code",
   "execution_count": 22,
   "metadata": {
    "colab": {
     "base_uri": "https://localhost:8080/",
     "height": 564
    },
    "id": "vD6dMikv58Uc",
    "outputId": "cfc49837-7182-4a26-b3ca-87516df655d6"
   },
   "outputs": [
    {
     "data": {
      "image/png": "[encoded data removed]",
      "text/plain": [
       "<Figure size 576x432 with 1 Axes>"
      ]
     },
     "metadata": {
      "needs_background": "light"
     },
     "output_type": "display_data"
    }
   ],
   "source": [
    "plt.figure(figsize=(8, 6))\n",
    "plt.hist(df[\"Rating\"], bins=10, edgecolor='black')\n",
    "plt.xlabel(\"Rating Score\")\n",
    "plt.ylabel(\"Frequency\")\n",
    "plt.title(\"Distribution of Customer Ratings\")\n",
    "plt.show()"
   ]
  },
  {
   "cell_type": "code",
   "execution_count": 23,
   "metadata": {
    "colab": {
     "base_uri": "https://localhost:8080/",
     "height": 564
    },
    "id": "XczqhKKT6QcA",
    "outputId": "3100f4c3-5d23-406e-ae0e-d59c05cbbc75"
   },
   "outputs": [
    {
     "data": {
      "image/png": "[encoded data removed]",
      "text/plain": [
       "<Figure size 576x432 with 1 Axes>"
      ]
     },
     "metadata": {
      "needs_background": "light"
     },
     "output_type": "display_data"
    }
   ],
   "source": [
    "plt.figure(figsize=(8, 6))\n",
    "sns.histplot(data=df, x=\"Rating\", bins=10, kde=False) # kde=False to not show the density curve\n",
    "plt.xlabel(\"Rating Score\")\n",
    "plt.ylabel(\"Frequency\")\n",
    "plt.title(\"Distribution of Customer Ratings\")\n",
    "plt.show()"
   ]
  },
  {
   "cell_type": "markdown",
   "metadata": {
    "id": "QtVhm-Yz7S40"
   },
   "source": [
    "**Observation:** Based on the histogram of customer ratings, it appears that  ratings are relatively spread out across the 4-10 range, it suggests a more uniform distribution, meaning there's a wide spread of ratings with no strong tendency towards high or low scores This suggests that customers generally gave good ratings."
   ]
  },
  {
   "cell_type": "markdown",
   "metadata": {
    "id": "BDH7Y9PE8PlI"
   },
   "source": [
    "7. Summarize Findings: Conclude this exploration with a brief summary of your fi ndings for this dataset.\n",
    "*  Write a short paragraph (3-5 sentences) highlighting key insights. For example, which branch had the highest sales, how member vs normal spending diff ered, which product line was best-selling, and anything interesting about customer ratings.\n",
    "*  If there were any surprises or notable patterns in the data, mention them. This summary will be useful when you compile your portfolio project description."
   ]
  },
  {
   "cell_type": "markdown",
   "metadata": {
    "id": "PVxrueDf8LaE"
   },
   "source": [
    "# **Summary :** Based on the analysis of the supermarket sales data, Branch C emerged as the top-performing branch in terms of total revenue. We observed that Member customers tend to have a higher average purchase amount compared to Normal customers, suggesting a potential benefit to the membership program. Among the various product lines, Food and beverages generated the highest total sales, indicating its popularity with customers. Finally, the distribution of customer ratings shows a wide spread, with ratings relatively distributed across the 4-10 range, suggesting a varied but generally positive customer satisfaction level."
   ]
  }
 ],
 "metadata": {
  "colab": {
   "provenance": []
  },
  "kernelspec": {
   "display_name": "Python 3",
   "language": "python",
   "name": "python3"
  },
  "language_info": {
   "codemirror_mode": {
    "name": "ipython",
    "version": 3
   },
   "file_extension": ".py",
   "mimetype": "text/x-python",
   "name": "python",
   "nbconvert_exporter": "python",
   "pygments_lexer": "ipython3",
   "version": "3.8.5"
  }
 },
 "nbformat": 4,
 "nbformat_minor": 4
}
